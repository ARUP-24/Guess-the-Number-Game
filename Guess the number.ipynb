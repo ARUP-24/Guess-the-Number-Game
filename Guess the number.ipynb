{
 "cells": [
  {
   "cell_type": "markdown",
   "id": "3129b121",
   "metadata": {},
   "source": [
    "# Guess the number"
   ]
  },
  {
   "cell_type": "code",
   "execution_count": 4,
   "id": "0f5858f4",
   "metadata": {},
   "outputs": [
    {
     "name": "stdout",
     "output_type": "stream",
     "text": [
      "Enter your number: 90\n",
      "your choice was large\n",
      "Enter your number: 80\n",
      "your choice was large\n",
      "Enter your number: 50\n",
      "you win\n",
      "---Game Over---\n"
     ]
    }
   ],
   "source": [
    "import random\n",
    "target = random.randint(1,100)\n",
    "while True:\n",
    "    choice = int(input(\"Enter your number: \"))\n",
    "    if (target == choice):\n",
    "        print(\"you win\")\n",
    "        break\n",
    "    elif (choice < target):\n",
    "        print(\"Your choice was small\")\n",
    "    else:\n",
    "        print(\"your choice was large\")\n",
    "print (\"---Game Over---\")"
   ]
  }
 ],
 "metadata": {
  "kernelspec": {
   "display_name": "Python 3 (ipykernel)",
   "language": "python",
   "name": "python3"
  },
  "language_info": {
   "codemirror_mode": {
    "name": "ipython",
    "version": 3
   },
   "file_extension": ".py",
   "mimetype": "text/x-python",
   "name": "python",
   "nbconvert_exporter": "python",
   "pygments_lexer": "ipython3",
   "version": "3.10.9"
  }
 },
 "nbformat": 4,
 "nbformat_minor": 5
}
